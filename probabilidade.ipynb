{
 "cells": [
  {
   "cell_type": "markdown",
   "id": "1c0d256c",
   "metadata": {},
   "source": [
    "# Introdução à Probabilidade\n",
    "\n",
    "## Probabilidade é uma área da matemática que estuda a chance de um determinado evento ocorrer. É um conceito importante em diversas áreas, como ciência, engenharia, economia, entre outras. Nesta documentação, vamos explorar os conceitos básicos de probabilidade e algumas das suas aplicações."
   ]
  },
  {
   "cell_type": "markdown",
   "id": "b9fdad04",
   "metadata": {},
   "source": [
    "## Conceitos Básicos\n",
    "### Antes de explorarmos as fórmulas e aplicações de probabilidade, é importante entendermos alguns conceitos básicos:\n",
    "\n",
    "## Experimento:\n",
    "### é qualquer processo que possa gerar um resultado. Exemplos de experimentos incluem jogar uma moeda, lançar um dado ou medir a temperatura ambiente.\n",
    "\n",
    "## Espaço Amostral: \n",
    "### é o conjunto de todos os resultados possíveis de um experimento. Por exemplo, no caso de jogar uma moeda, o espaço amostral é {cara, coroa}.\n",
    "\n",
    "## Evento:\n",
    "### é um subconjunto do espaço amostral. Um evento pode ser simples, se contém apenas um resultado, ou composto, se contém mais de um resultado.\n",
    "\n",
    "## Probabilidade:\n",
    "### é a medida da chance de um determinado evento ocorrer. É um número entre 0 e 1, onde 0 indica que o evento nunca ocorrerá e 1 indica que o evento sempre ocorrerá."
   ]
  },
  {
   "cell_type": "markdown",
   "id": "d8044db2",
   "metadata": {},
   "source": [
    "## Fórmulas Básicas\n",
    "### Existem algumas fórmulas básicas que nos permitem calcular a probabilidade de certos eventos. As principais são:\n",
    "\n",
    "## Probabilidade de um evento simples: \n",
    "### a probabilidade de um evento simples é dada por:\n",
    "\n",
    "### P(A) = número de resultados favoráveis a A / número total de resultados no espaço amostral\n",
    "\n",
    "### Por exemplo, se jogarmos um dado de seis faces, a probabilidade de obtermos um 3 é 1/6, já que há apenas um resultado favorável a esse evento e seis resultados possíveis no total.\n",
    "\n",
    "## Probabilidade de um evento composto:\n",
    "### a probabilidade de um evento composto é dada por:\n",
    "\n",
    "## P(A ou B) = P(A) + P(B) - P(A e B)\n",
    "\n",
    "### Onde P(A e B) representa a probabilidade de A e B ocorrerem simultaneamente. Por exemplo, se jogarmos um dado de seis faces, a probabilidade de obtermos um número par ou um múltiplo de 3 é dada por:\n",
    "\n",
    "## P(número par ou múltiplo de 3) = P(número par) + P(múltiplo de 3) - P(número par e múltiplo de 3)\n",
    "## = 3/6 + 2/6 - 1/6\n",
    "## = 4/6\n",
    "## = 2/3\n",
    "\n",
    "## Probabilidade condicional: \n",
    "### a probabilidade condicional de um evento A dado um evento B é dada por:\n",
    "\n",
    "## P(A|B) = P(A e B) / P(B)\n",
    "\n",
    "### Por exemplo, se jogarmos dois dados de seis faces, a probabilidade de obtermos um 2 no primeiro dado dado que a soma dos dois dados é igual a 7 é dada por:\n",
    "\n",
    "## P(2 no primeiro dado | soma é 7) = P(2 no primeiro dado e soma é 7) / P(soma é 7)\n",
    "## = 1/36 / 6/36\n",
    "## = 1/6"
   ]
  },
  {
   "cell_type": "markdown",
   "id": "c829e8c2",
   "metadata": {},
   "source": [
    "## Distribuição de Probabilidade\n",
    "### A distribuição de probabilidade é uma função que associa a cada evento do espaço amostral a sua probabilidade. Ela é especialmente útil quando lidamos com experimentos que têm um grande número de resultados possíveis, como jogar um dado múltiplas vezes ou medir a temperatura em um período de tempo.\n",
    "\n",
    "# Existem diversas distribuições de probabilidade, mas algumas das mais comuns são:\n",
    "\n",
    "## Distribuição uniforme:\n",
    "### quando todos os resultados possíveis têm a mesma probabilidade de ocorrer. Por exemplo, jogar um dado de seis faces.\n",
    "\n",
    "## Distribuição binomial:\n",
    "### quando o experimento consiste em uma sequência de n tentativas independentes, cada uma com dois possíveis resultados (sucesso ou fracasso), e a probabilidade de sucesso é constante em todas as tentativas. Por exemplo, lançar uma moeda 10 vezes e contar o número de caras.\n",
    "\n",
    "## Distribuição normal:\n",
    "### também conhecida como distribuição gaussiana, é uma distribuição contínua que descreve muitos fenômenos naturais, como a altura ou o peso de uma população. A distribuição normal é caracterizada pela sua média e desvio padrão.\n",
    "\n",
    "### As bibliotecas mais comuns para trabalhar com probabilidade em Python são o numpy e o scipy.stats. A seguir, vamos ver alguns exemplos de como usar essas bibliotecas para calcular probabilidades e gerar distribuições de probabilidade.\n",
    "\n",
    "## Distribuição Acumulada\n",
    "#### A distribuição acumulada é uma função que descreve a probabilidade cumulativa de uma variável aleatória X ser menor ou igual a um determinado valor x. Em outras palavras, a distribuição acumulada F(x) de X é definida como:\n",
    "\n",
    "#### F(x) = P(X ≤ x)\n",
    "\n",
    "#### Esta função é importante porque permite calcular a probabilidade de um intervalo de valores para a variável aleatória X. Por exemplo, a probabilidade de X estar entre a e b é dada por:\n",
    "\n",
    "#### P(a < X ≤ b) = F(b) - F(a)\n",
    "\n",
    "## Probabilidade Condicional\n",
    "#### A probabilidade condicional é a probabilidade de um evento A ocorrer dado que outro evento B já ocorreu. A probabilidade condicional de A dado B é denotada por P(A|B) e é dada por:\n",
    "\n",
    "#### P(A|B) = P(A ∩ B) / P(B)\n",
    "\n",
    "#### onde P(A ∩ B) é a probabilidade da interseção dos eventos A e B e P(B) é a probabilidade do evento B ocorrer. A probabilidade condicional é importante porque nos permite atualizar nossas crenças sobre a ocorrência de um evento com base em informações adicionais.\n",
    "\n",
    "## Eventos Independentes\n",
    "#### Dois eventos A e B são independentes se a ocorrência de um evento não afeta a probabilidade do outro evento ocorrer. Em outras palavras, se A e B são independentes, então:\n",
    "\n",
    "#### P(A ∩ B) = P(A) * P(B)\n",
    "\n",
    "#### A independência entre eventos é importante porque nos permite simplificar cálculos de probabilidade e modelar situações do mundo real em termos de eventos independentes.\n",
    "\n",
    "##  Partição do Espaço Amostral\n",
    "#### A partição do espaço amostral é a divisão do espaço amostral de um experimento em eventos mutuamente exclusivos e coletivamente exaustivos. Em outras palavras, a partição do espaço amostral é uma coleção de eventos A1, A2, ..., An tais que:\n",
    "\n",
    "#### A1 ∪ A2 ∪ ... ∪ An = S (o espaço amostral)\n",
    "#### A1 ∩ A2 = A1 ∩ A3 = ... = An-1 ∩ An = ∅ (os eventos são mutuamente exclusivos)\n",
    "#### A partição do espaço amostral é importante porque nos permite calcular a probabilidade de um evento A em termos de eventos mais simples.\n",
    "\n",
    "## Regra da Probabilidade Total\n",
    "#### A regra da probabilidade total é usada para calcular a probabilidade de um evento A em termos de uma partição do espaço amostral. Se A1, A2, ..., An é uma partição do espaço amostral S, então para qualquer evento A:\n",
    "\n",
    "#### P(A) = P(A|A1) * P(A1) + P(A|A2) * P(A2) + ... + P(A|An) * P(An)\n",
    "\n",
    "#### Esta fórmula é importante porque nos permite calcular a probabilidade de um evento em termos de eventos mais simples.\n",
    "\n",
    "## Teorema de Bayes\n",
    "#### O Teorema de Bayes é uma fórmula que nos permite atualizar nossas crenças sobre a ocorrência de um evento em face de novas evidências. Ele é fundamental em estatística, ciência de dados e inteligência artificial, e é usado para calcular a probabilidade condicional de um evento, dadas outras informações sobre o evento.\n",
    "\n",
    "#### A fórmula básica do Teorema de Bayes é dada por:\n",
    "\n",
    "#### P(A|B) = P(B|A) * P(A) / P(B)\n",
    "\n",
    "#### Onde:\n",
    "\n",
    "#### P(A|B) é a probabilidade condicional de A, dado B\n",
    "#### P(B|A) é a probabilidade condicional de B, dado A\n",
    "#### P(A) é a probabilidade a priori de A (a crença anterior sobre A)\n",
    "#### P(B) é a probabilidade a priori de B (a crença anterior sobre B)\n",
    "### Essa fórmula nos permite atualizar nossa crença sobre a probabilidade de um evento A, dada a ocorrência de um evento B. Isso é especialmente útil quando queremos determinar a probabilidade de um evento raro ou incomum, onde não temos muitos dados disponíveis.\n",
    "\n",
    "#### O Teorema de Bayes tem muitas aplicações em diferentes áreas, incluindo diagnósticos médicos, reconhecimento de fala, processamento de imagem, reconhecimento de padrões, segurança cibernética e muito mais. Em todos esses casos, a fórmula de Bayes é usada para atualizar nossa crença sobre a probabilidade de um evento, dadas outras informações disponíveis.\n",
    "\n",
    "#### Um exemplo comum de aplicação do Teorema de Bayes é em testes de diagnóstico. Suponha que temos um teste para detectar uma doença rara. Podemos usar o Teorema de Bayes para calcular a probabilidade de uma pessoa realmente ter a doença, dada a ocorrência de um resultado positivo no teste. Isso nos permite avaliar a eficácia do teste e tomar decisões mais informadas sobre a saúde do paciente."
   ]
  },
  {
   "cell_type": "markdown",
   "id": "949c8546",
   "metadata": {},
   "source": [
    "## Exemplos em Python\n",
    "## Distribuição uniforme\n",
    "### Para gerar uma distribuição uniforme em Python, podemos usar a função numpy.random.rand(), que retorna um número aleatório entre 0 e 1 com distribuição uniforme. Para gerar um número aleatório entre a e b com distribuição uniforme, podemos usar a fórmula:\n",
    "\n",
    "## x = a + (b-a) * np.random.rand()\n",
    "\n",
    "### Por exemplo, para gerar 1000 números aleatórios entre 1 e 6 com distribuição uniforme, podemos usar o seguinte código:"
   ]
  },
  {
   "cell_type": "code",
   "execution_count": 2,
   "id": "2c952863",
   "metadata": {},
   "outputs": [],
   "source": [
    "import numpy as np\n",
    "\n",
    "dados_uniforme = 1 + 5 * np.random.rand(1000)\n"
   ]
  },
  {
   "cell_type": "markdown",
   "id": "8a411fae",
   "metadata": {},
   "source": [
    "## Distribuição Acumulada\n",
    "#### Suponha que temos uma variável aleatória X com uma distribuição uniforme entre 0 e 1. Podemos calcular a distribuição acumulada F(x) de X da seguinte forma:"
   ]
  },
  {
   "cell_type": "code",
   "execution_count": 1,
   "id": "679edf57",
   "metadata": {
    "scrolled": true
   },
   "outputs": [
    {
     "data": {
      "image/png": "[encoded data removed]",
      "text/plain": [
       "<Figure size 432x288 with 1 Axes>"
      ]
     },
     "metadata": {
      "needs_background": "light"
     },
     "output_type": "display_data"
    }
   ],
   "source": [
    "import matplotlib.pyplot as plt\n",
    "import numpy as np\n",
    "\n",
    "def uniform_cdf(x):\n",
    "    if x < 0:\n",
    "        return 0\n",
    "    elif x < 1:\n",
    "        return x\n",
    "    else:\n",
    "        return 1\n",
    "\n",
    "x_vals = np.linspace(-0.2, 1.2, 500)\n",
    "y_vals = [uniform_cdf(x) for x in x_vals]\n",
    "\n",
    "plt.plot(x_vals, y_vals)\n",
    "plt.title(\"Distribuição Acumulada\")\n",
    "plt.xlabel(\"x\")\n",
    "plt.ylabel(\"F(x)\")\n",
    "plt.show()\n"
   ]
  },
  {
   "cell_type": "markdown",
   "id": "bab73e32",
   "metadata": {},
   "source": [
    "## Probabilidade Condicional\n",
    "#### Suponha que temos dois eventos A e B, onde P(A) = 0.3, P(B) = 0.5 e P(A ∩ B) = 0.2. Podemos calcular a probabilidade condicional P(A|B) da seguinte forma:"
   ]
  },
  {
   "cell_type": "code",
   "execution_count": 4,
   "id": "63b72f6f",
   "metadata": {},
   "outputs": [
    {
     "name": "stdout",
     "output_type": "stream",
     "text": [
      "P(A|B) = 0.4\n"
     ]
    }
   ],
   "source": [
    "P_A = 0.3\n",
    "P_B = 0.5\n",
    "P_A_inter_B = 0.2\n",
    "\n",
    "P_A_dado_B = P_A_inter_B / P_B\n",
    "\n",
    "print(\"P(A|B) =\", P_A_dado_B)\n"
   ]
  },
  {
   "cell_type": "markdown",
   "id": "0a8f95ef",
   "metadata": {},
   "source": [
    "## Eventos Independentes\n",
    "#### Suponha que temos dois eventos A e B, onde P(A) = 0.4 e P(B) = 0.6. Podemos verificar se A e B são independentes da seguinte forma:"
   ]
  },
  {
   "cell_type": "code",
   "execution_count": 10,
   "id": "5e7ee465",
   "metadata": {},
   "outputs": [
    {
     "name": "stdout",
     "output_type": "stream",
     "text": [
      "A e B não são independentes\n"
     ]
    }
   ],
   "source": [
    "P_A = 0.4\n",
    "P_B = 0.6\n",
    "P_C = 0.2\n",
    "P_A_inter_B = 0.3\n",
    "\n",
    "if P_A_inter_B == P_A * P_B:\n",
    "    print(\"A e B são independentes\")\n",
    "else:\n",
    "    print(\"A e B não são independentes\")\n"
   ]
  },
  {
   "cell_type": "markdown",
   "id": "9bfd94db",
   "metadata": {},
   "source": [
    "## Partição do Espaço Amostral\n",
    "#### Suponha que temos uma partição do espaço amostral S = {A, B, C}, onde P(A) = 0.2, P(B) = 0.5 e P(C) = 0.3. Podemos calcular a probabilidade de um evento D em termos da partição do espaço amostral da seguinte forma:"
   ]
  },
  {
   "cell_type": "code",
   "execution_count": 13,
   "id": "e16790a8",
   "metadata": {},
   "outputs": [
    {
     "name": "stdout",
     "output_type": "stream",
     "text": [
      "P(D) = 0.44\n"
     ]
    }
   ],
   "source": [
    "P_D_dado_A = 0.2\n",
    "P_D_dado_B = 0.5\n",
    "P_D_dado_C = 0.3\n",
    "\n",
    "P_D = P_D_dado_A * P_A + P_D_dado_B * P_B + P_D_dado_C * P_C\n",
    "\n",
    "print(\"P(D) =\", P_D)\n"
   ]
  },
  {
   "cell_type": "markdown",
   "id": "0d56d197",
   "metadata": {},
   "source": [
    "## Regra da Probabilidade Total\n",
    "#### Suponha que temos uma partição do espaço amostral S = {A, B, C}, onde P(A) = 0.2, P(B) = 0.5 e P(C) = 0.3, e queremos calcular a probabilidade de um evento D. Podemos usar a regra da probabilidade total da seguinte forma:"
   ]
  },
  {
   "cell_type": "code",
   "execution_count": 14,
   "id": "02b7ff6c",
   "metadata": {
    "scrolled": true
   },
   "outputs": [
    {
     "name": "stdout",
     "output_type": "stream",
     "text": [
      "P(D) = 0.44\n"
     ]
    }
   ],
   "source": [
    "P_D_dado_A = 0.2\n",
    "P_D_dado_B = 0.5\n",
    "P_D_dado_C = 0.3\n",
    "\n",
    "P_D = P_D_dado_A * P_A + P_D_dado_B * P_B + P_D_given_C * P_C\n",
    "\n",
    "print(\"P(D) =\", P_D)\n"
   ]
  },
  {
   "cell_type": "markdown",
   "id": "3782f04d",
   "metadata": {},
   "source": [
    "## Teorema de Bayes\n",
    "#### Suponha que temos uma partição do espaço amostral S = {A, B, C}, onde P(A) = 0.2, P(B) = 0.5 e P(C) = 0.3, e queremos calcular a probabilidade condicional P(A|D). Podemos usar o Teorema de Bayes da seguinte forma:"
   ]
  },
  {
   "cell_type": "code",
   "execution_count": 16,
   "id": "1778e76b",
   "metadata": {},
   "outputs": [
    {
     "name": "stdout",
     "output_type": "stream",
     "text": [
      "P(A|D) = 0.3636363636363637\n"
     ]
    }
   ],
   "source": [
    "P_D_dado_A = 0.4\n",
    "P_D_dado_B = 0.1\n",
    "P_D_dado_C = 0.3\n",
    "\n",
    "P_A = 0.2\n",
    "P_B = 0.5\n",
    "P_C = 0.3\n",
    "\n",
    "P_D = P_D_dado_A * P_A + P_D_dado_B * P_B + P_D_dado_C * P_C\n",
    "\n",
    "P_A_dado_D = P_D_dado_A * P_A / P_D\n",
    "\n",
    "print(\"P(A|D) =\", P_A_dado_D)\n"
   ]
  },
  {
   "cell_type": "markdown",
   "id": "8550f201",
   "metadata": {},
   "source": [
    "## Esperança\n",
    "#### Suponha que temos uma variável aleatória X com uma distribuição uniforme entre 0 e 1. Podemos calcular a esperança E[X] da seguinte forma:"
   ]
  },
  {
   "cell_type": "code",
   "execution_count": 17,
   "id": "0536eac4",
   "metadata": {},
   "outputs": [
    {
     "name": "stdout",
     "output_type": "stream",
     "text": [
      "E[X] = 0.5\n"
     ]
    }
   ],
   "source": [
    "def uniform_pdf(x):\n",
    "    if x < 0 or x > 1:\n",
    "        return 0\n",
    "    else:\n",
    "        return 1\n",
    "\n",
    "def uniform_mean():\n",
    "    return (1 - 0) / 2\n",
    "\n",
    "E_X = uniform_mean()\n",
    "\n",
    "print(\"E[X] =\", E_X)\n"
   ]
  },
  {
   "cell_type": "markdown",
   "id": "7b9965c0",
   "metadata": {},
   "source": [
    "## Função de Distribuição Acumulada\n",
    "#### Suponha que temos uma variável aleatória X com uma distribuição exponencial com parâmetro λ = 2. Podemos calcular a função de distribuição acumulada F(x) de X da seguinte forma:"
   ]
  },
  {
   "cell_type": "code",
   "execution_count": 18,
   "id": "6f092e19",
   "metadata": {
    "scrolled": true
   },
   "outputs": [
    {
     "data": {
      "image/png": "[encoded data removed]",
      "text/plain": [
       "<Figure size 432x288 with 1 Axes>"
      ]
     },
     "metadata": {
      "needs_background": "light"
     },
     "output_type": "display_data"
    }
   ],
   "source": [
    "import matplotlib.pyplot as plt\n",
    "import numpy as np\n",
    "\n",
    "def exp_cdf(x, lam):\n",
    "    if x < 0:\n",
    "        return 0\n",
    "    else:\n",
    "        return 1 - np.exp(-lam * x)\n",
    "\n",
    "x_vals = np.linspace(-0.2, 5, 500)\n",
    "y_vals = [exp_cdf(x, 2) for x in x_vals]\n",
    "\n",
    "plt.plot(x_vals, y_vals)\n",
    "plt.title(\"Função de Distribuição Acumulada\")\n",
    "plt.xlabel(\"x\")\n",
    "plt.ylabel(\"F(x)\")\n",
    "plt.show()\n"
   ]
  },
  {
   "cell_type": "markdown",
   "id": "8519e261",
   "metadata": {},
   "source": [
    "### Continuando o exemplo do Teorema de Bayes, vamos supor que temos uma aplicação médica que pode detectar uma doença rara, mas com uma taxa de falsos positivos de 5% e uma taxa de falsos negativos de 2%. Suponha que a taxa de prevalência da doença na população é de 0,1%.\n",
    "\n",
    "#### Podemos usar o Teorema de Bayes para calcular a probabilidade de uma pessoa ter a doença dadas as informações disponíveis. Suponha que um paciente teste positivo para a doença. Qual é a probabilidade de ele realmente ter a doença?"
   ]
  },
  {
   "cell_type": "code",
   "execution_count": 19,
   "id": "af1d33f5",
   "metadata": {},
   "outputs": [
    {
     "name": "stdout",
     "output_type": "stream",
     "text": [
      "Probabilidade da pessoa ter a doença dado que o teste deu positivo: 0.01924209699587669\n"
     ]
    }
   ],
   "source": [
    "# Probabilidade do teste dar positivo, dado que a pessoa tem a doença\n",
    "p_pos_given_disease = 0.98\n",
    "\n",
    "# Probabilidade do teste dar positivo, dado que a pessoa não tem a doença\n",
    "p_pos_given_no_disease = 0.05\n",
    "\n",
    "# Probabilidade da doença na população\n",
    "p_disease = 0.001\n",
    "\n",
    "# Probabilidade da pessoa não ter a doença\n",
    "p_no_disease = 1 - p_disease\n",
    "\n",
    "# Probabilidade do teste dar positivo\n",
    "p_pos = p_pos_given_disease * p_disease + p_pos_given_no_disease * p_no_disease\n",
    "\n",
    "# Probabilidade da pessoa ter a doença dado que o teste deu positivo (usando o Teorema de Bayes)\n",
    "p_disease_given_pos = p_pos_given_disease * p_disease / p_pos\n",
    "\n",
    "print(\"Probabilidade da pessoa ter a doença dado que o teste deu positivo:\", p_disease_given_pos)\n"
   ]
  },
  {
   "cell_type": "markdown",
   "id": "96c2fa02",
   "metadata": {},
   "source": [
    "#### Neste exemplo, mesmo que o teste tenha uma alta taxa de precisão, a baixa prevalência da doença na população significa que a probabilidade de uma pessoa que teste positivo realmente ter a doença ainda é relativamente baixa."
   ]
  },
  {
   "cell_type": "markdown",
   "id": "60452545",
   "metadata": {},
   "source": [
    "## Para calcular a probabilidade de obtermos um número maior do que 4, podemos contar quantos dos 1000 números gerados são maiores do que 4 e dividir pelo total:"
   ]
  },
  {
   "cell_type": "code",
   "execution_count": 3,
   "id": "a797fa94",
   "metadata": {},
   "outputs": [
    {
     "name": "stdout",
     "output_type": "stream",
     "text": [
      "0.39\n"
     ]
    }
   ],
   "source": [
    "P_maior_que_4 = sum(dados_uniforme > 4) / len(dados_uniforme)\n",
    "print(P_maior_que_4)\n"
   ]
  },
  {
   "cell_type": "markdown",
   "id": "57d19c7f",
   "metadata": {},
   "source": [
    "## Distribuição binomial\n",
    "### Para gerar uma distribuição binomial em Python, podemos usar a função scipy.stats.binom.pmf(), que calcula a probabilidade de um certo número de sucessos em n tentativas independentes com uma dada probabilidade de sucesso.\n",
    "\n",
    "### Por exemplo, para calcular a probabilidade de obtermos exatamente 3 caras ao lançar uma moeda 10 vezes (onde a probabilidade de cara é 0.5), podemos usar o seguinte código:"
   ]
  },
  {
   "cell_type": "code",
   "execution_count": 4,
   "id": "a03ef8b0",
   "metadata": {},
   "outputs": [
    {
     "name": "stdout",
     "output_type": "stream",
     "text": [
      "0.1171875\n"
     ]
    }
   ],
   "source": [
    "from scipy.stats import binom\n",
    "\n",
    "p = 0.5\n",
    "n = 10\n",
    "k = 3\n",
    "\n",
    "P_3_caras = binom.pmf(k, n, p)\n",
    "print(P_3_caras)\n"
   ]
  },
  {
   "cell_type": "markdown",
   "id": "20bc511d",
   "metadata": {},
   "source": [
    "## Distribuição normal\n",
    "### Para gerar uma distribuição normal em Python, podemos usar a função numpy.random.normal(), que retorna um número aleatório com distribuição normal de uma dada média e desvio padrão.\n",
    "\n",
    "### Por exemplo, para gerar 1000 números aleatórios com distribuição normal de média 0 e desvio padrão 1, podemos usar o seguinte código:"
   ]
  },
  {
   "cell_type": "code",
   "execution_count": 5,
   "id": "47093d93",
   "metadata": {},
   "outputs": [],
   "source": [
    "import numpy as np\n",
    "\n",
    "dados_normal = np.random.normal(0, 1, 1000)\n"
   ]
  },
  {
   "cell_type": "markdown",
   "id": "7d91a7cb",
   "metadata": {},
   "source": [
    "## Podemos plotar o histograma dos dados gerados para visualizar a distribuição:"
   ]
  },
  {
   "cell_type": "code",
   "execution_count": 6,
   "id": "ebac4ebc",
   "metadata": {},
   "outputs": [
    {
     "data": {
      "image/png": "[encoded data removed]",
      "text/plain": [
       "<Figure size 640x480 with 1 Axes>"
      ]
     },
     "metadata": {},
     "output_type": "display_data"
    }
   ],
   "source": [
    "import matplotlib.pyplot as plt\n",
    "\n",
    "plt.hist(dados_normal, bins=30)\n",
    "plt.show()\n"
   ]
  },
  {
   "cell_type": "markdown",
   "id": "7186cce9",
   "metadata": {},
   "source": [
    "### Também podemos calcular a probabilidade de um certo intervalo de valores usando a função scipy.stats.norm.cdf(), que calcula a probabilidade acumulada até um certo ponto na distribuição normal.\n",
    "\n",
    "### Por exemplo, para calcular a probabilidade de um número aleatório estar entre -1 e 1 desvios padrão da média, podemos usar o seguinte código:"
   ]
  },
  {
   "cell_type": "code",
   "execution_count": 7,
   "id": "ecb52ea2",
   "metadata": {},
   "outputs": [
    {
     "name": "stdout",
     "output_type": "stream",
     "text": [
      "0.6826894921370859\n"
     ]
    }
   ],
   "source": [
    "from scipy.stats import norm\n",
    "\n",
    "P_entre_1_desvio = norm.cdf(1) - norm.cdf(-1)\n",
    "print(P_entre_1_desvio)\n"
   ]
  },
  {
   "cell_type": "markdown",
   "id": "2bd0b38e",
   "metadata": {},
   "source": [
    "# Conclusão\n",
    "## Nesta documentação, vimos alguns exemplos de como usar as bibliotecas numpy e scipy.stats em Python para trabalhar com probabilidade e gerar distribuições de probabilidade. É importante lembrar que a probabilidade é uma ferramenta poderosa para analisar e modelar fenômenos complexos, mas é preciso cuidado ao interpretar os resultados e ao escolher a distribuição mais adequada para cada situação.\n",
    "\n",
    "### Filipe Sampaio Campos, Chat_GPT."
   ]
  }
 ],
 "metadata": {
  "celltoolbar": "Create Assignment",
  "kernelspec": {
   "display_name": "Python 3 (ipykernel)",
   "language": "python",
   "name": "python3"
  },
  "language_info": {
   "codemirror_mode": {
    "name": "ipython",
    "version": 3
   },
   "file_extension": ".py",
   "mimetype": "text/x-python",
   "name": "python",
   "nbconvert_exporter": "python",
   "pygments_lexer": "ipython3",
   "version": "3.9.12"
  }
 },
 "nbformat": 4,
 "nbformat_minor": 5
}
