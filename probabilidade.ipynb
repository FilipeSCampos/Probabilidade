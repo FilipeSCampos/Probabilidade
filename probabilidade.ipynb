{
 "cells": [
  {
   "cell_type": "markdown",
   "id": "1c0d256c",
   "metadata": {},
   "source": [
    "# Introdução à Probabilidade\n",
    "\n",
    "## Probabilidade é uma área da matemática que estuda a chance de um determinado evento ocorrer. É um conceito importante em diversas áreas, como ciência, engenharia, economia, entre outras. Nesta documentação, vamos explorar os conceitos básicos de probabilidade e algumas das suas aplicações."
   ]
  },
  {
   "cell_type": "markdown",
   "id": "b9fdad04",
   "metadata": {},
   "source": [
    "## Conceitos Básicos\n",
    "### Antes de explorarmos as fórmulas e aplicações de probabilidade, é importante entendermos alguns conceitos básicos:\n",
    "\n",
    "## Experimento:\n",
    "### é qualquer processo que possa gerar um resultado. Exemplos de experimentos incluem jogar uma moeda, lançar um dado ou medir a temperatura ambiente.\n",
    "\n",
    "## Espaço Amostral: \n",
    "### é o conjunto de todos os resultados possíveis de um experimento. Por exemplo, no caso de jogar uma moeda, o espaço amostral é {cara, coroa}.\n",
    "\n",
    "## Evento:\n",
    "### é um subconjunto do espaço amostral. Um evento pode ser simples, se contém apenas um resultado, ou composto, se contém mais de um resultado.\n",
    "\n",
    "## Probabilidade:\n",
    "### é a medida da chance de um determinado evento ocorrer. É um número entre 0 e 1, onde 0 indica que o evento nunca ocorrerá e 1 indica que o evento sempre ocorrerá."
   ]
  },
  {
   "cell_type": "markdown",
   "id": "d8044db2",
   "metadata": {},
   "source": [
    "## Fórmulas Básicas\n",
    "### Existem algumas fórmulas básicas que nos permitem calcular a probabilidade de certos eventos. As principais são:\n",
    "\n",
    "## Probabilidade de um evento simples: \n",
    "### a probabilidade de um evento simples é dada por:\n",
    "\n",
    "### P(A) = número de resultados favoráveis a A / número total de resultados no espaço amostral\n",
    "\n",
    "### Por exemplo, se jogarmos um dado de seis faces, a probabilidade de obtermos um 3 é 1/6, já que há apenas um resultado favorável a esse evento e seis resultados possíveis no total.\n",
    "\n",
    "## Probabilidade de um evento composto:\n",
    "### a probabilidade de um evento composto é dada por:\n",
    "\n",
    "## P(A ou B) = P(A) + P(B) - P(A e B)\n",
    "\n",
    "### Onde P(A e B) representa a probabilidade de A e B ocorrerem simultaneamente. Por exemplo, se jogarmos um dado de seis faces, a probabilidade de obtermos um número par ou um múltiplo de 3 é dada por:\n",
    "\n",
    "## P(número par ou múltiplo de 3) = P(número par) + P(múltiplo de 3) - P(número par e múltiplo de 3)\n",
    "## = 3/6 + 2/6 - 1/6\n",
    "## = 4/6\n",
    "## = 2/3\n",
    "\n",
    "## Probabilidade condicional: \n",
    "### a probabilidade condicional de um evento A dado um evento B é dada por:\n",
    "\n",
    "## P(A|B) = P(A e B) / P(B)\n",
    "\n",
    "### Por exemplo, se jogarmos dois dados de seis faces, a probabilidade de obtermos um 2 no primeiro dado dado que a soma dos dois dados é igual a 7 é dada por:\n",
    "\n",
    "## P(2 no primeiro dado | soma é 7) = P(2 no primeiro dado e soma é 7) / P(soma é 7)\n",
    "## = 1/36 / 6/36\n",
    "## = 1/6"
   ]
  },
  {
   "cell_type": "markdown",
   "id": "c829e8c2",
   "metadata": {},
   "source": [
    "## Distribuição de Probabilidade\n",
    "### A distribuição de probabilidade é uma função que associa a cada evento do espaço amostral a sua probabilidade. Ela é especialmente útil quando lidamos com experimentos que têm um grande número de resultados possíveis, como jogar um dado múltiplas vezes ou medir a temperatura em um período de tempo.\n",
    "\n",
    "# Existem diversas distribuições de probabilidade, mas algumas das mais comuns são:\n",
    "\n",
    "## Distribuição uniforme:\n",
    "### quando todos os resultados possíveis têm a mesma probabilidade de ocorrer. Por exemplo, jogar um dado de seis faces.\n",
    "\n",
    "## Distribuição binomial:\n",
    "### quando o experimento consiste em uma sequência de n tentativas independentes, cada uma com dois possíveis resultados (sucesso ou fracasso), e a probabilidade de sucesso é constante em todas as tentativas. Por exemplo, lançar uma moeda 10 vezes e contar o número de caras.\n",
    "\n",
    "## Distribuição normal:\n",
    "### também conhecida como distribuição gaussiana, é uma distribuição contínua que descreve muitos fenômenos naturais, como a altura ou o peso de uma população. A distribuição normal é caracterizada pela sua média e desvio padrão.\n",
    "\n",
    "### As bibliotecas mais comuns para trabalhar com probabilidade em Python são o numpy e o scipy.stats. A seguir, vamos ver alguns exemplos de como usar essas bibliotecas para calcular probabilidades e gerar distribuições de probabilidade."
   ]
  },
  {
   "cell_type": "markdown",
   "id": "949c8546",
   "metadata": {},
   "source": [
    "## Exemplos em Python\n",
    "## Distribuição uniforme\n",
    "### Para gerar uma distribuição uniforme em Python, podemos usar a função numpy.random.rand(), que retorna um número aleatório entre 0 e 1 com distribuição uniforme. Para gerar um número aleatório entre a e b com distribuição uniforme, podemos usar a fórmula:\n",
    "\n",
    "## x = a + (b-a) * np.random.rand()\n",
    "\n",
    "### Por exemplo, para gerar 1000 números aleatórios entre 1 e 6 com distribuição uniforme, podemos usar o seguinte código:"
   ]
  },
  {
   "cell_type": "code",
   "execution_count": 2,
   "id": "2c952863",
   "metadata": {},
   "outputs": [],
   "source": [
    "import numpy as np\n",
    "\n",
    "dados_uniforme = 1 + 5 * np.random.rand(1000)\n"
   ]
  },
  {
   "cell_type": "markdown",
   "id": "60452545",
   "metadata": {},
   "source": [
    "## Para calcular a probabilidade de obtermos um número maior do que 4, podemos contar quantos dos 1000 números gerados são maiores do que 4 e dividir pelo total:"
   ]
  },
  {
   "cell_type": "code",
   "execution_count": 3,
   "id": "a797fa94",
   "metadata": {},
   "outputs": [
    {
     "name": "stdout",
     "output_type": "stream",
     "text": [
      "0.39\n"
     ]
    }
   ],
   "source": [
    "P_maior_que_4 = sum(dados_uniforme > 4) / len(dados_uniforme)\n",
    "print(P_maior_que_4)\n"
   ]
  },
  {
   "cell_type": "markdown",
   "id": "57d19c7f",
   "metadata": {},
   "source": [
    "## Distribuição binomial\n",
    "### Para gerar uma distribuição binomial em Python, podemos usar a função scipy.stats.binom.pmf(), que calcula a probabilidade de um certo número de sucessos em n tentativas independentes com uma dada probabilidade de sucesso.\n",
    "\n",
    "### Por exemplo, para calcular a probabilidade de obtermos exatamente 3 caras ao lançar uma moeda 10 vezes (onde a probabilidade de cara é 0.5), podemos usar o seguinte código:"
   ]
  },
  {
   "cell_type": "code",
   "execution_count": 4,
   "id": "a03ef8b0",
   "metadata": {},
   "outputs": [
    {
     "name": "stdout",
     "output_type": "stream",
     "text": [
      "0.1171875\n"
     ]
    }
   ],
   "source": [
    "from scipy.stats import binom\n",
    "\n",
    "p = 0.5\n",
    "n = 10\n",
    "k = 3\n",
    "\n",
    "P_3_caras = binom.pmf(k, n, p)\n",
    "print(P_3_caras)\n"
   ]
  },
  {
   "cell_type": "markdown",
   "id": "20bc511d",
   "metadata": {},
   "source": [
    "## Distribuição normal\n",
    "### Para gerar uma distribuição normal em Python, podemos usar a função numpy.random.normal(), que retorna um número aleatório com distribuição normal de uma dada média e desvio padrão.\n",
    "\n",
    "### Por exemplo, para gerar 1000 números aleatórios com distribuição normal de média 0 e desvio padrão 1, podemos usar o seguinte código:"
   ]
  },
  {
   "cell_type": "code",
   "execution_count": 5,
   "id": "47093d93",
   "metadata": {},
   "outputs": [],
   "source": [
    "import numpy as np\n",
    "\n",
    "dados_normal = np.random.normal(0, 1, 1000)\n"
   ]
  },
  {
   "cell_type": "markdown",
   "id": "7d91a7cb",
   "metadata": {},
   "source": [
    "## Podemos plotar o histograma dos dados gerados para visualizar a distribuição:"
   ]
  },
  {
   "cell_type": "code",
   "execution_count": 6,
   "id": "ebac4ebc",
   "metadata": {},
   "outputs": [
    {
     "data": {
      "image/png": "[encoded data removed]",
      "text/plain": [
       "<Figure size 640x480 with 1 Axes>"
      ]
     },
     "metadata": {},
     "output_type": "display_data"
    }
   ],
   "source": [
    "import matplotlib.pyplot as plt\n",
    "\n",
    "plt.hist(dados_normal, bins=30)\n",
    "plt.show()\n"
   ]
  },
  {
   "cell_type": "markdown",
   "id": "7186cce9",
   "metadata": {},
   "source": [
    "### Também podemos calcular a probabilidade de um certo intervalo de valores usando a função scipy.stats.norm.cdf(), que calcula a probabilidade acumulada até um certo ponto na distribuição normal.\n",
    "\n",
    "### Por exemplo, para calcular a probabilidade de um número aleatório estar entre -1 e 1 desvios padrão da média, podemos usar o seguinte código:"
   ]
  },
  {
   "cell_type": "code",
   "execution_count": 7,
   "id": "ecb52ea2",
   "metadata": {},
   "outputs": [
    {
     "name": "stdout",
     "output_type": "stream",
     "text": [
      "0.6826894921370859\n"
     ]
    }
   ],
   "source": [
    "from scipy.stats import norm\n",
    "\n",
    "P_entre_1_desvio = norm.cdf(1) - norm.cdf(-1)\n",
    "print(P_entre_1_desvio)\n"
   ]
  },
  {
   "cell_type": "markdown",
   "id": "2bd0b38e",
   "metadata": {},
   "source": [
    "# Conclusão\n",
    "## Nesta documentação, vimos alguns exemplos de como usar as bibliotecas numpy e scipy.stats em Python para trabalhar com probabilidade e gerar distribuições de probabilidade. É importante lembrar que a probabilidade é uma ferramenta poderosa para analisar e modelar fenômenos complexos, mas é preciso cuidado ao interpretar os resultados e ao escolher a distribuição mais adequada para cada situação.\n",
    "\n",
    "### Filipe Sampaio Campos, Chat_GPT."
   ]
  }
 ],
 "metadata": {
  "celltoolbar": "Create Assignment",
  "kernelspec": {
   "display_name": "Python 3 (ipykernel)",
   "language": "python",
   "name": "python3"
  },
  "language_info": {
   "codemirror_mode": {
    "name": "ipython",
    "version": 3
   },
   "file_extension": ".py",
   "mimetype": "text/x-python",
   "name": "python",
   "nbconvert_exporter": "python",
   "pygments_lexer": "ipython3",
   "version": "3.9.13"
  }
 },
 "nbformat": 4,
 "nbformat_minor": 5
}
